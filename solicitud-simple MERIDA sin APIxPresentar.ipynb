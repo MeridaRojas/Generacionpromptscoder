{
 "cells": [
  {
   "cell_type": "markdown",
   "id": "6347f6e5-853f-4a71-95aa-61532e5073f2",
   "metadata": {},
   "source": [
    "1. Import openAI dependences (load with conda install openai)"
   ]
  },
  {
   "cell_type": "code",
   "execution_count": 7,
   "id": "6f5e6bba-f9b0-4d27-a0c2-ceede346e2fd",
   "metadata": {
    "scrolled": true
   },
   "outputs": [],
   "source": [
    "\n",
    "#Import openAI dependences (module)\n",
    "import openai"
   ]
  },
  {
   "cell_type": "code",
   "execution_count": 8,
   "id": "67b89398-e839-4f04-86b0-7fd6b5b22075",
   "metadata": {},
   "outputs": [
    {
     "name": "stdout",
     "output_type": "stream",
     "text": [
      "Requirement already satisfied: openai in c:\\users\\meryr\\anaconda4\\lib\\site-packages (0.27.8)\n",
      "Requirement already satisfied: requests>=2.20 in c:\\users\\meryr\\anaconda4\\lib\\site-packages (from openai) (2.32.3)\n",
      "Requirement already satisfied: tqdm in c:\\users\\meryr\\anaconda4\\lib\\site-packages (from openai) (4.66.5)\n",
      "Requirement already satisfied: aiohttp in c:\\users\\meryr\\anaconda4\\lib\\site-packages (from openai) (3.10.5)\n",
      "Requirement already satisfied: charset-normalizer<4,>=2 in c:\\users\\meryr\\anaconda4\\lib\\site-packages (from requests>=2.20->openai) (3.3.2)\n",
      "Requirement already satisfied: idna<4,>=2.5 in c:\\users\\meryr\\anaconda4\\lib\\site-packages (from requests>=2.20->openai) (3.7)\n",
      "Requirement already satisfied: urllib3<3,>=1.21.1 in c:\\users\\meryr\\anaconda4\\lib\\site-packages (from requests>=2.20->openai) (2.2.3)\n",
      "Requirement already satisfied: certifi>=2017.4.17 in c:\\users\\meryr\\anaconda4\\lib\\site-packages (from requests>=2.20->openai) (2024.8.30)\n",
      "Requirement already satisfied: aiohappyeyeballs>=2.3.0 in c:\\users\\meryr\\anaconda4\\lib\\site-packages (from aiohttp->openai) (2.4.0)\n",
      "Requirement already satisfied: aiosignal>=1.1.2 in c:\\users\\meryr\\anaconda4\\lib\\site-packages (from aiohttp->openai) (1.2.0)\n",
      "Requirement already satisfied: attrs>=17.3.0 in c:\\users\\meryr\\anaconda4\\lib\\site-packages (from aiohttp->openai) (23.1.0)\n",
      "Requirement already satisfied: frozenlist>=1.1.1 in c:\\users\\meryr\\anaconda4\\lib\\site-packages (from aiohttp->openai) (1.4.0)\n",
      "Requirement already satisfied: multidict<7.0,>=4.5 in c:\\users\\meryr\\anaconda4\\lib\\site-packages (from aiohttp->openai) (6.0.4)\n",
      "Requirement already satisfied: yarl<2.0,>=1.0 in c:\\users\\meryr\\anaconda4\\lib\\site-packages (from aiohttp->openai) (1.11.0)\n",
      "Requirement already satisfied: colorama in c:\\users\\meryr\\anaconda4\\lib\\site-packages (from tqdm->openai) (0.4.6)\n"
     ]
    }
   ],
   "source": [
    "!pip install openai"
   ]
  },
  {
   "cell_type": "markdown",
   "id": "6180968b-5de0-4e1d-91e1-bb0607b62ebe",
   "metadata": {},
   "source": [
    "2. Use the API Key from openAI page"
   ]
  },
  {
   "cell_type": "code",
   "execution_count": 9,
   "id": "aaa13f6c-6aee-4ddd-92b7-33dbbf66ea3c",
   "metadata": {
    "scrolled": true
   },
   "outputs": [],
   "source": [
    "#Add our API Key copied from openAI page\n",
    "openai.api_key = \"ELIMINADA x PRESENTAR\""
   ]
  },
  {
   "cell_type": "markdown",
   "id": "133396b5-0a78-4b9a-a1c0-8c81d7744f9b",
   "metadata": {},
   "source": [
    "#Rol del user\n",
    "prompt=\"(Eres un recepcionista experto en atención al cliente, tu funcion es responder consultas y lograr que los clientes realicen reservas al HoteL.Debes ser amable, claro y brindar toda la informacion necesaria para resolver dudas. La respuestas no puede superar 150 tokens.)\""
   ]
  },
  {
   "cell_type": "code",
   "execution_count": 10,
   "id": "f7c1fc76-a9ea-4df9-9324-d83bba8bfc0c",
   "metadata": {
    "scrolled": true
   },
   "outputs": [],
   "source": [
    "#Make the context of our prompt envoirement\n",
    "context = \"(Eres un recepcionista experto en atención al cliente, tu funcion es responder consultas y lograr que los clientes realicen reservas al HoteL.Debes ser amable, claro y brindar toda la informacion necesaria para resolver dudas. La respuestas no puede superar 150 tokens.)\"\n",
    "context = \"\"\"Ten en cuenta el reglamento del hotel por si realizan consultas relacionadas con el mismo.\n",
    "El pago se debe realizar exclusivamente por adelantado mediante transferencia bancaria.\n",
    "El impago de un día da pleno derecho al establecimiento a desalojar la habitación sin previo aviso.\n",
    "Las personas no registradas solo pueden ingresar al Hall de Planta Baja del Hotel, siendo este el único espacio habilitado para recibir visitas. Queda expresamente prohibido recibir visitas en las habitaciones sin excepción.\n",
    "La llave se debe entregar en la recepción al salir del hotel.\n",
    "El horario de Check-in es desde las 12 horas\n",
    "El horario de Check-out es hasta las 10 horas\n",
    "Se prohíbe expresamente realizar ruidos molestos o elevados las 24 horas todos los días.\n",
    "Se solicita realizar un consumo responsable de Agua y Luz, cierre bien las canillas, y apague las luces y artefactos eléctricos al no utilizarlos. Ayúdenos a Cuidar el Medio Ambiente. Separe los residuos reciclables secos del resto de la basura. No tire líquidos en la basura.\n",
    "Queda terminantemente prohibido hacer uso de artefactos eléctricos no brindados exclusivamente por la administración del hotel. El uso de los mismos queda a exclusiva responsabilidad del pasajero tanto por los daños que pueda ocasionar u ocasionarse.\n",
    "El establecimiento no se responsabiliza de rotura o pérdida de objetos no dejados a cargo exclusivo del mismo mediante un recibo escrito y firmado por la administración.\n",
    "No está permitido el ingreso de animales al establecimiento.\n",
    "Queda terminantemente Prohibido Fumar en todo el establecimiento.\n",
    "Queda prohibido caminar descalzo o con el torso descubierto en las zonas comunes, como así también dejar la puerta de las habitaciones abierta, y dejar pertenencias en los pasillos.\n",
    "Queda prohibido correr en todas las instalaciones, evite accidentes.\n",
    "Cualquier rotura o desperfecto ocasionado por los pasajeros deberá ser abonado por el mismo sin excepción.\n",
    "Una vez pagado el importe de la habitación no se realizarán reembolsos parciales o totales bajo ninguna circunstancia.\n",
    "Las tarifas no son reembolsables, unicamente avisando con antelación mayor a 24 horas previas al horario de check in del día contratado, se permite la utilización del importe abonado para cancelar parcial o totalmente una reserva en otra fecha.\n",
    "Las habitaciones cuentan con Smart Tv, Tv por Cable, Wifi, Mesa, Sillas, Heladera (chica), baño privado, toallas y servicio de limpieza.\n",
    "No brindamos desayuno, pueden ingresar con alimentos y bebidas, además contamos con una cocina compartida que pueden utilizar, también contamos con dispenser de agua fria y caliente tanto en la recepción del hotel como en la cocina.\n",
    "El hotel se encuentra abierto y con personal en recepción las 24 horas del día\n",
    "El hotel se encuentra ubicado en Sarmiento 2009, Ciudad Autonoma de Buenos Aires, Argentina Código Postal 1044\n",
    "Ten en cuenta los precios vigentes del hotel:\n",
    "Habitación individual $52300 por día\n",
    "Habitación doble $61400 por día\n",
    "Habitación triple $72300 por día\n",
    "Habitación cuadruple $81300 por día\n",
    "Cochera $9000 por día\n",
    "Los clientes habitualmente hablarán en castellano, en caso de que escriban en otro idioma deberás responderles en el idioma que te escriben.\n",
    "Cuando los clientes confirmen una reserva deberás enviarles los siguientes datos para que procedan al pago:\n",
    "Le paso los datos para realizar la transferencia, c4uando realice la operación por favor envíenos el comprobante para identificar su pago y registrarlo en su reserva\n",
    "Alias: HOTELDOSMUNDOS\n",
    "CUIT: 30-71638141-9\n",
    "Razón Social: H2 Mundos S.R.L.\n",
    "Cuenta Corriente Banco Galicia\n",
    "CBU: \"0070363320000001493504\" \"\"\"\n",
    "\n",
    "#prompt (text/user's question)\n",
    "prompt = \"\"\"\n",
    "cliente: Buenos dias, quiero reservar una habitacion doble para el 15 de diciembre ¿cual es el precio y como puedo confirmar la reserva?\n",
    "\"\"\""
   ]
  },
  {
   "cell_type": "markdown",
   "id": "a42ce140-d99c-492e-ad64-9de2719ea75e",
   "metadata": {},
   "source": [
    "4. Settings"
   ]
  },
  {
   "cell_type": "code",
   "execution_count": 11,
   "id": "33c9ec7a-09d7-45e5-b492-405e9ffefe98",
   "metadata": {},
   "outputs": [
    {
     "name": "stdout",
     "output_type": "stream",
     "text": [
      "Requirement already satisfied: openai==0.27.8 in c:\\users\\meryr\\anaconda4\\lib\\site-packages (0.27.8)\n",
      "Requirement already satisfied: requests>=2.20 in c:\\users\\meryr\\anaconda4\\lib\\site-packages (from openai==0.27.8) (2.32.3)\n",
      "Requirement already satisfied: tqdm in c:\\users\\meryr\\anaconda4\\lib\\site-packages (from openai==0.27.8) (4.66.5)\n",
      "Requirement already satisfied: aiohttp in c:\\users\\meryr\\anaconda4\\lib\\site-packages (from openai==0.27.8) (3.10.5)\n",
      "Requirement already satisfied: charset-normalizer<4,>=2 in c:\\users\\meryr\\anaconda4\\lib\\site-packages (from requests>=2.20->openai==0.27.8) (3.3.2)\n",
      "Requirement already satisfied: idna<4,>=2.5 in c:\\users\\meryr\\anaconda4\\lib\\site-packages (from requests>=2.20->openai==0.27.8) (3.7)\n",
      "Requirement already satisfied: urllib3<3,>=1.21.1 in c:\\users\\meryr\\anaconda4\\lib\\site-packages (from requests>=2.20->openai==0.27.8) (2.2.3)\n",
      "Requirement already satisfied: certifi>=2017.4.17 in c:\\users\\meryr\\anaconda4\\lib\\site-packages (from requests>=2.20->openai==0.27.8) (2024.8.30)\n",
      "Requirement already satisfied: aiohappyeyeballs>=2.3.0 in c:\\users\\meryr\\anaconda4\\lib\\site-packages (from aiohttp->openai==0.27.8) (2.4.0)\n",
      "Requirement already satisfied: aiosignal>=1.1.2 in c:\\users\\meryr\\anaconda4\\lib\\site-packages (from aiohttp->openai==0.27.8) (1.2.0)\n",
      "Requirement already satisfied: attrs>=17.3.0 in c:\\users\\meryr\\anaconda4\\lib\\site-packages (from aiohttp->openai==0.27.8) (23.1.0)\n",
      "Requirement already satisfied: frozenlist>=1.1.1 in c:\\users\\meryr\\anaconda4\\lib\\site-packages (from aiohttp->openai==0.27.8) (1.4.0)\n",
      "Requirement already satisfied: multidict<7.0,>=4.5 in c:\\users\\meryr\\anaconda4\\lib\\site-packages (from aiohttp->openai==0.27.8) (6.0.4)\n",
      "Requirement already satisfied: yarl<2.0,>=1.0 in c:\\users\\meryr\\anaconda4\\lib\\site-packages (from aiohttp->openai==0.27.8) (1.11.0)\n",
      "Requirement already satisfied: colorama in c:\\users\\meryr\\anaconda4\\lib\\site-packages (from tqdm->openai==0.27.8) (0.4.6)\n",
      "Note: you may need to restart the kernel to use updated packages.\n"
     ]
    }
   ],
   "source": [
    "pip install openai==0.27.8"
   ]
  },
  {
   "cell_type": "code",
   "execution_count": 12,
   "id": "8fd8464e-d2da-4041-bd50-81a3ff6b53f0",
   "metadata": {},
   "outputs": [
    {
     "name": "stdout",
     "output_type": "stream",
     "text": [
      "Buenos días. El precio de la habitación doble para el 15 de diciembre es de $61400 por día. Para confirmar la reserva, deberás realizar el pago por adelantado mediante transferencia bancaria. A continuación, te proporcionaré los datos para realizar la transferencia:\n",
      "Alias: HOTELDOSMUNDOS\n",
      "CUIT: 30-71638141-9\n",
      "Razón Social: H2 Mundos S.R.L.\n",
      "Cuenta Corriente Banco Galicia\n",
      "CBU: \"0070363320000001493504\"\n",
      "Una vez que realices la transferencia, por favor envíanos el comprobante para identificar tu pago y completar la reserva.\n"
     ]
    }
   ],
   "source": [
    "# Make the request\n",
    "import openai\n",
    "openai.api_key = \"ELIMINADA x PRESENTAR\"\n",
    "\n",
    "response = openai.ChatCompletion.create(\n",
    "    model=\"gpt-3.5-turbo\",\n",
    "    messages=[\n",
    "        {\"role\": \"system\", \"content\": context},\n",
    "        {\"role\": \"user\", \"content\": prompt}\n",
    "    ],\n",
    "    max_tokens=150\n",
    ")\n",
    "\n",
    "message = response['choices'][0]['message']['content']\n",
    "print(message)"
   ]
  },
  {
   "cell_type": "code",
   "execution_count": null,
   "id": "e3b4fea3-3b94-4bd0-82b4-966e987baa5f",
   "metadata": {},
   "outputs": [],
   "source": [
    "5. Storage the response in any variable"
   ]
  },
  {
   "cell_type": "code",
   "execution_count": null,
   "id": "abb2ce41-0dc8-46f9-8137-aca58604bcbf",
   "metadata": {},
   "outputs": [],
   "source": [
    "#Storage the response in a variable to use it\n",
    "primer_converzacion = response['choices'][0]['message']['content'].strip()\n",
    "\n",
    "#Use the variable\n",
    "print(\"El resumen de dicha converzacion es:\", primer_converzacion)\n"
   ]
  }
 ],
 "metadata": {
  "kernelspec": {
   "display_name": "Python 3 (ipykernel)",
   "language": "python",
   "name": "python3"
  },
  "language_info": {
   "codemirror_mode": {
    "name": "ipython",
    "version": 3
   },
   "file_extension": ".py",
   "mimetype": "text/x-python",
   "name": "python",
   "nbconvert_exporter": "python",
   "pygments_lexer": "ipython3",
   "version": "3.12.7"
  }
 },
 "nbformat": 4,
 "nbformat_minor": 5
}
